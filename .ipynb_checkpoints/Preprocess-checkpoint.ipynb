{
 "cells": [
  {
   "cell_type": "code",
   "execution_count": 1,
   "id": "b4e05c49-e9ac-4ef6-8386-710181cb73f1",
   "metadata": {},
   "outputs": [],
   "source": [
    "import pandas as pd\n",
    "import re\n"
   ]
  },
  {
   "cell_type": "code",
   "execution_count": 2,
   "id": "b111de63-6eca-4d09-86ab-4b7f175e8222",
   "metadata": {},
   "outputs": [],
   "source": [
    "def replace_escape_numbers(text):\n",
    "    \n",
    "    # Your original string\n",
    "    original_string = text\n",
    "    \n",
    "    # Pattern to match \"\\n\" followed by digits\n",
    "    pattern = re.compile(r'\\n\\d+')\n",
    "    \n",
    "    # Replace \"\\n\" followed by digits with a custom string\n",
    "    new_string = pattern.sub(r'<endl>', original_string)\n",
    "    \n",
    "    print(new_string)\n",
    "    return new_string\n",
    "def save_file(filename,text):\n",
    "    with open(\"preprocessed_\"+filename, \"w\") as text_file:\n",
    "        text_file.write(text)\n",
    "    print(\"saved sucessfully!\")\n",
    "def truncate_word(word):\n",
    "    if len(word) < 2:\n",
    "        return word\n",
    "\n",
    "    # Find the index where the last character changes\n",
    "    index = len(word) - 1\n",
    "    \n",
    "    while index > 0 and word[index] == word[index - 1]:\n",
    "        index -= 1\n",
    "\n",
    "    return word[:index + 1]\n",
    "def remove_symbols_except(text, symbols_to_keep):\n",
    "    # Escape special characters in symbols_to_keep for regex\n",
    "    symbols_to_keep = re.escape(symbols_to_keep)\n",
    "    \n",
    "    # Regular expression pattern to match symbols to remove\n",
    "    pattern = r'[^a-zA-Z0-9\\s' + symbols_to_keep + ']'\n",
    "    \n",
    "    # Replace symbols with an empty string\n",
    "    cleaned_text = re.sub(pattern, '', text)\n",
    "    \n",
    "    return cleaned_text\n",
    "def remove_words_with_numbers(text):\n",
    "    # Regular expression pattern to match words containing numbers\n",
    "    pattern = r'\\b\\w*\\d\\w*\\b'\n",
    "    \n",
    "    # Replace words containing numbers with an empty string\n",
    "    cleaned_text = re.sub(pattern, '', text)\n",
    "    cleaned_text = cleaned_text.replace(\"  \",' ')\n",
    "    return cleaned_text\n",
    "\n",
    "\n",
    "georgian_to_english = {\n",
    "    \"ა\": \"a\",\n",
    "    \"ბ\": \"b\",\n",
    "    \"გ\": \"g\",\n",
    "    \"დ\": \"d\",\n",
    "    \"ე\": \"e\",\n",
    "    \"ვ\": \"v\",\n",
    "    \"ზ\": \"z\",\n",
    "    \"თ\": \"t\",\n",
    "    \"ი\": \"i\",\n",
    "    \"კ\": \"k\",\n",
    "    \"ლ\": \"l\",\n",
    "    \"მ\": \"m\",\n",
    "    \"ნ\": \"n\",\n",
    "    \"ო\": \"o\",\n",
    "    \"პ\": \"p\",\n",
    "    \"ჟ\": \"J\",\n",
    "    \"რ\": \"r\",\n",
    "    \"ს\": \"s\",\n",
    "    \"ტ\": \"t\",\n",
    "    \"უ\": \"u\",\n",
    "    \"ფ\": \"f\",\n",
    "    \"ქ\": \"q\",\n",
    "    \"ღ\": \"g\",\n",
    "    \"ყ\": \"y\",\n",
    "    \"შ\": \"sh\",\n",
    "    \"ჩ\": \"ch\",\n",
    "    \"ც\": \"c\",\n",
    "    \"ძ\": \"dz\",\n",
    "    \"წ\": \"w\",\n",
    "    \"ჭ\": \"w\",\n",
    "    \"ხ\": \"x\",\n",
    "    \"ჯ\": \"j\",\n",
    "    \"ჰ\": \"h\",\n",
    "}\n",
    "def targmna(text):\n",
    "\n",
    "    \n",
    "    for letter in georgian_to_english:\n",
    "        text = text.replace(letter, georgian_to_english[letter])\n",
    "    return text\n"
   ]
  },
  {
   "cell_type": "code",
   "execution_count": 3,
   "id": "eef37856-147f-459d-a6ef-93a71955ecec",
   "metadata": {},
   "outputs": [],
   "source": []
  },
  {
   "cell_type": "code",
   "execution_count": 3,
   "id": "9b41ad45-c31d-4d37-bea9-cc61d217ba81",
   "metadata": {},
   "outputs": [],
   "source": [
    "filename = 'ge_web.txt'"
   ]
  },
  {
   "cell_type": "code",
   "execution_count": 4,
   "id": "3a2a040c-5bd2-41b6-9641-10e51ffdda7e",
   "metadata": {},
   "outputs": [],
   "source": [
    "with open(\"preprocessed_\"+filename, 'r', encoding='utf-8') as f:\n",
    "    text = f.read()\n"
   ]
  },
  {
   "cell_type": "code",
   "execution_count": 10,
   "id": "cd45f592-2d0c-4f60-b1c8-26dde5e91486",
   "metadata": {},
   "outputs": [],
   "source": [
    "text = text.replace('\"','').replace('“','').replace('”','').replace(\"'\",\"\").replace(\"„\",'')\n"
   ]
  },
  {
   "cell_type": "code",
   "execution_count": 13,
   "id": "65d9294b-cb1b-4376-9324-61f83ab7a155",
   "metadata": {},
   "outputs": [
    {
     "data": {
      "text/plain": [
       "'▪ 03.04.: '"
      ]
     },
     "execution_count": 13,
     "metadata": {},
     "output_type": "execute_result"
    }
   ],
   "source": [
    "text[:10]"
   ]
  },
  {
   "cell_type": "code",
   "execution_count": 14,
   "id": "088d9c3f-470d-4d00-874d-b8f7a1df741e",
   "metadata": {},
   "outputs": [
    {
     "name": "stdout",
     "output_type": "stream",
     "text": [
      "saved sucessfully!\n"
     ]
    }
   ],
   "source": [
    "save_file(filename,text)"
   ]
  },
  {
   "cell_type": "code",
   "execution_count": null,
   "id": "d9370b8f-5a66-453a-a336-cce4a55092d6",
   "metadata": {},
   "outputs": [],
   "source": []
  },
  {
   "cell_type": "code",
   "execution_count": null,
   "id": "92a1ae04-d3d3-4bb2-bc2f-bfb81089898d",
   "metadata": {},
   "outputs": [],
   "source": []
  },
  {
   "cell_type": "code",
   "execution_count": 6,
   "id": "e635a353-9b24-4696-84a1-e32d95389862",
   "metadata": {},
   "outputs": [
    {
     "name": "stderr",
     "output_type": "stream",
     "text": [
      "IOPub data rate exceeded.\n",
      "The Jupyter server will temporarily stop sending output\n",
      "to the client in order to avoid crashing it.\n",
      "To change this limit, set the config variable\n",
      "`--ServerApp.iopub_data_rate_limit`.\n",
      "\n",
      "Current values:\n",
      "ServerApp.iopub_data_rate_limit=1000000.0 (bytes/sec)\n",
      "ServerApp.rate_limit_window=3.0 (secs)\n",
      "\n"
     ]
    }
   ],
   "source": [
    "new_text = replace_escape_numbers(text)\n"
   ]
  },
  {
   "cell_type": "code",
   "execution_count": 10,
   "id": "978977ab-30c8-4c60-966c-eca89b8f05f2",
   "metadata": {},
   "outputs": [],
   "source": [
    "new_text = new_text.replace('\\t','')"
   ]
  },
  {
   "cell_type": "code",
   "execution_count": 11,
   "id": "05f50efb-fc6d-4a41-8a4b-45a93e1e1808",
   "metadata": {},
   "outputs": [
    {
     "name": "stdout",
     "output_type": "stream",
     "text": [
      "saved sucessfully!\n"
     ]
    }
   ],
   "source": [
    "save_file(\"test_\"+filename,new_text)"
   ]
  },
  {
   "cell_type": "code",
   "execution_count": 6,
   "id": "ad91bc4c-6d09-465f-9f9d-8e37ee4a300f",
   "metadata": {},
   "outputs": [],
   "source": [
    "df = pd.read_csv(\"ge_web - Copy.tsv\",sep='\\t',header=0)"
   ]
  },
  {
   "cell_type": "code",
   "execution_count": 7,
   "id": "79c5006d-c81b-4f27-afbd-e59b3d0ba91b",
   "metadata": {},
   "outputs": [],
   "source": [
    "df = df.rename(columns={df.columns[0]:\"id\",df.columns[1]:'text'})"
   ]
  },
  {
   "cell_type": "code",
   "execution_count": 8,
   "id": "cd7bb569-7423-4ae3-91cc-bae926abc8b3",
   "metadata": {},
   "outputs": [],
   "source": [
    "df = df.drop(columns=\"id\")"
   ]
  },
  {
   "cell_type": "code",
   "execution_count": 12,
   "id": "727d85dc-5ba9-4c74-845b-67291b889fc5",
   "metadata": {},
   "outputs": [
    {
     "data": {
      "text/plain": [
       "'10:00 საათის მონაცემებით, 240 000 ამომრჩეველია ურნასთან მისული.\\t“1000 უფასო ოპერაცია უსინათლოებს”\\n11\\t100%-ით დარწმუნებული არ ვარ“, - დასძინა მან.'"
      ]
     },
     "execution_count": 12,
     "metadata": {},
     "output_type": "execute_result"
    }
   ],
   "source": [
    "df.loc[8]['text'].replace('\\n10','')"
   ]
  },
  {
   "cell_type": "code",
   "execution_count": 9,
   "id": "3b8d0379-1de7-4486-b8e3-a2a9d2ff0174",
   "metadata": {},
   "outputs": [
    {
     "name": "stdout",
     "output_type": "stream",
     "text": [
      "text    ¾ ქილის მოცულობა კუნელის ახალი ყვავილებით აავს...\n",
      "Name: 5, dtype: object'<endl>'\n",
      "text    ¾ ჭიქა მარტივი სიროფი (1 ჭიქა წყალი და 1 ჭიქა ...\n",
      "Name: 6, dtype: object'<endl>'\n",
      "text    100 000 წამი - ასე ეწოდება მელოდრამას, რომელში...\n",
      "Name: 7, dtype: object'<endl>'\n",
      "text    10:00 საათის მონაცემებით, 240 000 ამომრჩეველია...\n",
      "Name: 8, dtype: object'<endl>'\n",
      "text    ”100 ქულის ამოწურვის შემდეგ, მძღოლს საშუალება ...\n",
      "Name: 9, dtype: object'<endl>'\n",
      "text    100 ცნობილი ქალის წერილი, მამაკაცის კომპლიმენტ...\n",
      "Name: 10, dtype: object'<endl>'\n",
      "text    10-15 წელში MLS ევროპული ჩემპიონატების დონეზე ...\n",
      "Name: 11, dtype: object'<endl>'\n",
      "text    $10.8 მილიონად შეფასებული Payme-ს 51%-ში TBC B...\n",
      "Name: 12, dtype: object'<endl>'\n",
      "text     10. ათენის არქეოლოგიური მუზეუმი, სადაც გამოფ...\n",
      "Name: 13, dtype: object'<endl>'\n",
      "text    “10” და “2.5” აღნიშნავს მიკრონებს.\n",
      "Name: 14, dtype: object'<endl>'\n",
      "text    • 10-დან 50 კუბმეტრამდე სამშენებლო ან სხვა ინე...\n",
      "Name: 15, dtype: object'<endl>'\n",
      "text    10 დღეა დაახლოებით გასული მას შემდეგ რაც ჩვენ ...\n",
      "Name: 16, dtype: object'<endl>'\n",
      "text    “10 თვის ასაკში ბავშვის ცემას სამომავლოდ, მისი...\n",
      "Name: 17, dtype: object'<endl>'\n",
      "text    10 იანვარს შევიკრიბეთ და მზადება დავიწყეთ.\\n24...\n",
      "Name: 18, dtype: object'<endl>'\n",
      "text    » 10 მიზეზი თუ რატომ არიან თევზების ზოდიაქოს ქ...\n",
      "Name: 19, dtype: object'<endl>'\n",
      "text    10 ნაბიჯი პიარ გეგმის შესადგენად - ბიბლუსის და...\n",
      "Name: 20, dtype: object'<endl>'\n",
      "text    •10 ნოემბერი - სწავლების გახსნა, პრესკონფერენცია.\n",
      "Name: 21, dtype: object'<endl>'\n",
      "text    10 პიესა ომზე დაიწერა პროექტისთვის, რომელსაც პ...\n",
      "Name: 22, dtype: object'<endl>'\n",
      "text    10 ფეხბურთელით თამაში რთულია, მაგრამ ზიზუს გუნ...\n",
      "Name: 23, dtype: object'<endl>'\n",
      "text    « 10 ყველაზე საშიში მცენარე მსოფლიოში »\n",
      "Name: 24, dtype: object'<endl>'\n",
      "text    “10 წელია რაც გათხოვილი ვარ და ჩემს ქმარს დღემ...\n",
      "Name: 25, dtype: object'<endl>'\n",
      "text    10 წელი ვიარე სიმართლის დასადგენად, მაგრამ ამ ...\n",
      "Name: 26, dtype: object'<endl>'\n",
      "text    “10 წიგნისა და 4000 ლექსის ავტორი” – ვინ დაეხმ...\n",
      "Name: 27, dtype: object'<endl>'\n",
      "text    “10 წლის წინ კი, რუსეთის ფედერაციამ ჩემი ქვეყნ...\n",
      "Name: 28, dtype: object'<endl>'\n",
      "text    “№ 11 (1216) – 12 მარტი” წარმატებით დაემატა.\n",
      "Name: 29, dtype: object'<endl>'\n",
      "text    • 11-12 წლის ზემოთ თამაშის დროს მშობელმა მეტი ...\n",
      "Name: 30, dtype: object'<endl>'\n",
      "text    112 -დან მიღებული მონაცემების თანახმად, მიმდინ...\n",
      "Name: 31, dtype: object'<endl>'\n",
      "text    112-ში შეიქმნა მობილური აპლიკაცია, რომელიც მსხ...\n",
      "Name: 32, dtype: object'<endl>'\n",
      "text    114 მსჯავრდებული დღესვე დატოვებს საპატიმრო დაწ...\n",
      "Name: 33, dtype: object'<endl>'\n",
      "text    … 11 მარტი 2019, 00:00 სასაუბრო თემა გახლავთ: ...\n",
      "Name: 34, dtype: object'<endl>'\n",
      "text    №11 საჯარო სკოლა - პედაგოგთა რაოდენობა ჯამში 2...\n",
      "Name: 35, dtype: object'<endl>'\n",
      "text    “11 წლის ბიჭია სანდრო ტავალიუკი.\n",
      "Name: 36, dtype: object'<endl>'\n",
      "text    12,10,09 II რიგის ცვლილება - აქტიური ნივთიერებ...\n",
      "Name: 37, dtype: object'<endl>'\n",
      "text    ‎12 აპრილამდე იმართება დიდი ავტოგამოფენა-გაყიდ...\n",
      "Name: 38, dtype: object'<endl>'\n",
      "text    12 თებერვალს ღამით, ოჯახური პირობების გამო, დი...\n",
      "Name: 39, dtype: object'<endl>'\n",
      "text    12-საათიანი სამუშაო გრაფიკისას ერთხელ გვაჭმევდ...\n",
      "Name: 40, dtype: object'<endl>'\n",
      "text    12 სამინისტროს მიერ მოწოდებული ინფორმაციის თან...\n",
      "Name: 41, dtype: object'<endl>'\n",
      "text    12-წლიანი მკაცრი სანქციების პერიოდში, არასდროს...\n",
      "Name: 42, dtype: object'<endl>'\n",
      "text    12 წლის ბიჭების ცხედრები წყალში ხელჩაჭიდებული ...\n",
      "Name: 43, dtype: object'<endl>'\n",
      "text    • 13:00-15:00 საბაჟო პროცედურები, გთხოვთ გაითვ...\n",
      "Name: 44, dtype: object'<endl>'\n",
      "text    ”13-14 ივნისის სტიქიიდან ორი წელი გავიდა.\n",
      "Name: 45, dtype: object'<endl>'\n",
      "text    №1318 კონსტიტუციური სარჩელის ავტორი დამატებით ...\n",
      "Name: 46, dtype: object'<endl>'\n",
      "text    13 1eახლახან, საგარეჯოში გაიმართა შეხვედრა, რო...\n",
      "Name: 47, dtype: object'<endl>'\n",
      "text    13 1eდედოფლისწყაროს რაიონში მდინარე ალაზანზე გ...\n",
      "Name: 48, dtype: object'<endl>'\n",
      "text    13 1eსოფელ წითელწყაროს საჯარო სკოლაში რუსულ სე...\n",
      "Name: 49, dtype: object'<endl>'\n"
     ]
    }
   ],
   "source": [
    "for i in range(5,50):\n",
    "    print(f\"{df.loc[i]}'<endl>'\")"
   ]
  },
  {
   "cell_type": "code",
   "execution_count": 7,
   "id": "732dfbdd-bd2f-4e22-acab-aca79cbc417c",
   "metadata": {},
   "outputs": [],
   "source": [
    "\n",
    "text_dict = {\"text0\":\"\",\"text1\":\"\",\"text2\":\"\",\"text3\":\"\",\"text4\":\"\",\"text5\":\"\",\"text6\":\"\",\"text7\":\"\",\"text8\":\"\",\"text9\":\"\",\"text10\":\"\"}"
   ]
  },
  {
   "cell_type": "code",
   "execution_count": 7,
   "id": "de2a58d4-e9b2-41e8-a5af-fc7b3865b8a0",
   "metadata": {},
   "outputs": [],
   "source": [
    "length = len(df)\n",
    "indices = []\n",
    "for i in range(11):\n",
    "    tenth = len(df)//10\n",
    "    indices.append(i*tenth)"
   ]
  },
  {
   "cell_type": "code",
   "execution_count": 8,
   "id": "4ffa4600-e1f3-40d8-8465-25c3ae698e17",
   "metadata": {},
   "outputs": [
    {
     "data": {
      "text/plain": [
       "[0,\n",
       " 90336,\n",
       " 180672,\n",
       " 271008,\n",
       " 361344,\n",
       " 451680,\n",
       " 542016,\n",
       " 632352,\n",
       " 722688,\n",
       " 813024,\n",
       " 903360]"
      ]
     },
     "execution_count": 8,
     "metadata": {},
     "output_type": "execute_result"
    }
   ],
   "source": [
    "indices"
   ]
  },
  {
   "cell_type": "code",
   "execution_count": 9,
   "id": "fd4cabef-60f8-4b7b-a569-f56e8aafa852",
   "metadata": {},
   "outputs": [
    {
     "name": "stdout",
     "output_type": "stream",
     "text": [
      "from 0 to 90336\n",
      "appending to text0\n",
      "from 90336 to 18067268\n",
      "appending to text1\n",
      "from 180672 to 27100868\n",
      "appending to text2\n",
      "from 271008 to 36134468\n",
      "appending to text3\n",
      "from 361344 to 45168068\n",
      "appending to text4\n",
      "from 451680 to 54201668\n",
      "appending to text5\n",
      "from 542016 to 63235268\n",
      "appending to text6\n",
      "from 632352 to 72268868\n",
      "appending to text7\n",
      "from 722688 to 81302468\n",
      "appending to text8\n",
      "from 813024 to 90336068\n",
      "appending to text9\n",
      "Progress: 903359/903368\r"
     ]
    },
    {
     "ename": "IndexError",
     "evalue": "list index out of range",
     "output_type": "error",
     "traceback": [
      "\u001b[1;31m---------------------------------------------------------------------------\u001b[0m",
      "\u001b[1;31mIndexError\u001b[0m                                Traceback (most recent call last)",
      "Cell \u001b[1;32mIn[9], line 2\u001b[0m\n\u001b[0;32m      1\u001b[0m \u001b[38;5;28;01mfor\u001b[39;00m num \u001b[38;5;129;01min\u001b[39;00m \u001b[38;5;28mrange\u001b[39m(\u001b[38;5;28mlen\u001b[39m(indices)):\n\u001b[1;32m----> 2\u001b[0m     \u001b[38;5;28mprint\u001b[39m(\u001b[38;5;124mf\u001b[39m\u001b[38;5;124m\"\u001b[39m\u001b[38;5;124mfrom \u001b[39m\u001b[38;5;132;01m{\u001b[39;00mindices[num]\u001b[38;5;132;01m}\u001b[39;00m\u001b[38;5;124m to \u001b[39m\u001b[38;5;132;01m{\u001b[39;00mindices[num\u001b[38;5;241m+\u001b[39m\u001b[38;5;241m1\u001b[39m]\u001b[38;5;132;01m}\u001b[39;00m\u001b[38;5;124m\"\u001b[39m)\n\u001b[0;32m      3\u001b[0m     text_name \u001b[38;5;241m=\u001b[39m \u001b[38;5;124mf\u001b[39m\u001b[38;5;124m'\u001b[39m\u001b[38;5;124mtext\u001b[39m\u001b[38;5;132;01m{\u001b[39;00mnum\u001b[38;5;132;01m}\u001b[39;00m\u001b[38;5;124m'\u001b[39m\n\u001b[0;32m      4\u001b[0m     \u001b[38;5;28mprint\u001b[39m(\u001b[38;5;124mf\u001b[39m\u001b[38;5;124m\"\u001b[39m\u001b[38;5;124mappending to \u001b[39m\u001b[38;5;132;01m{\u001b[39;00mtext_name\u001b[38;5;132;01m}\u001b[39;00m\u001b[38;5;124m\"\u001b[39m)\n",
      "\u001b[1;31mIndexError\u001b[0m: list index out of range"
     ]
    }
   ],
   "source": [
    "for num in range(len(indices)):\n",
    "    print(f\"from {indices[num]} to {indices[num+1]}\")\n",
    "    text_name = f'text{num}'\n",
    "    print(f\"appending to {text_name}\")\n",
    "    text = ''\n",
    "    for i in range(indices[num],indices[num+1]):\n",
    "        text += f\"{df.loc[i]['text']}'<endl>'\"\n",
    "        \n",
    "        print(f\"Progress: {i}/{len(df)}\", end='\\r')\n",
    "    text_dict[text_name] = text"
   ]
  },
  {
   "cell_type": "code",
   "execution_count": 14,
   "id": "6a1d8097-6edb-4ad1-b200-77ec48fdd16b",
   "metadata": {},
   "outputs": [],
   "source": [
    "text_concat = ''\n",
    "for key in text_dict:\n",
    "    text_concat+=text_dict[key]"
   ]
  },
  {
   "cell_type": "code",
   "execution_count": 33,
   "id": "e1ced4ff-b828-4d04-8161-c3f347a79cf4",
   "metadata": {},
   "outputs": [
    {
     "name": "stdout",
     "output_type": "stream",
     "text": [
      "▪ 03.04.: გ. მაისურაძე წიგნის შესახებ „http://bit.'\n",
      "'06,06,2008 I რიგის “ა” და “ბ” ტიპი - პირველადი და მეორეული შეფუთვის მარკირების, დიზაინის და სპეციფიკაციაში ცვლილების რეგისტრაცია '\n",
      "'“08:00 საათზე გაიხსნა უბნები, ოპოზიციური პარტიებისგან გაკეთებული განცხადებები არის სიცრუე და არის ტყუილი.'\n",
      "'¼ ფინალურ ეტაპზე მეტოქეს ელოდება აჭარაბეთი, რომელმაც ვითიბი ბანკი 5:2 დაამარცხა.'\n",
      "'¾ ქილის მოცულობა კუნელის ახალი ყვავილებით აავსეთ, ბოლომდე არყით აავსეთ და 1 კვირა დააყენეთ.'\n",
      "'¾ ჭიქა მარტივი სიროფი (1 ჭიქა წყალი და 1 ჭიქა შაქარი).'\n",
      "'100 000 წამი - ასე ეწოდება მელოდრამას, რომელშიც დავით ქაცარავა და ლუიზა ნერსისიანი მონაწილეობენ.'\n",
      "'10:00 საათის მონაცემებით, 240 000 ამომრჩეველია ურნასთან მისული.\n",
      "10\t“1000 უფასო ოპერაცია უსინათლოებს”\n",
      "11\t100%-ით დარწმუნებული არ ვარ“, - დასძინა მან.'\n",
      "'”100 ქულის ამოწურვის შემდეგ, მძღოლს საშუალება ექნება, მართვის მოწმობის გაუქმებიდან 2 თვის ვადაში განმეორებით გამოცდაზე გავიდეს.'\n",
      "'100 ცნობილი ქალის წერილი, მამაკაცის კომპლიმენტები არ შეიძლება ჩაითვალოს კანონდარღვევად'\n",
      "'10-15 წელში MLS ევროპული ჩემპიონატების დონეზე იქნება.\n",
      "15\t103-ე საგუშაგო სოფელ რეფში საქართველოს მოქალაქის გელა გოგოხიას კერძო სახლში იყო განლაგებული, ხოლო 105-ე საგუშაგოს სოფელ ქვემო ბარღებში ქართულ საშუალო სკოლის შენობაში ედო ბინა.'\n",
      "'$10.8 მილიონად შეფასებული Payme-ს 51%-ში TBC Bank $5.5 მილიონს ნაღდი ანგარიშსწორებით, ბანკის საკუთარი სახსრებით გადაიხდის და ტრანზაქცია სავარაუდოდ აპრილის ბოლოსთვის დაიხურება.'\n",
      "' 10. ათენის არქეოლოგიური მუზეუმი, სადაც გამოფენილია უნიკალური მასალა.'\n",
      "'“10” და “2.5” აღნიშნავს მიკრონებს.'\n",
      "'• 10-დან 50 კუბმეტრამდე სამშენებლო ან სხვა ინერტული ნარჩენების დაყრაზე ჯარიმა იქნება ფიზიკური პირისთვის 10 000 ლარი, ხოლო იურიდიული პირისთვის – 30 000 ლარი.”'\n",
      "'10 დღეა დაახლოებით გასული მას შემდეგ რაც ჩვენ შევხდით პრემიერ-მინისტრს და ალბათ, უკვე დროა კოალიციამ საკუთარი მიდგომა ჩამოაყალიბოს ფორმატთან დაკავშირებით.\n",
      "21\t10 დღეში პრეზიდენტი ვიქტორ იანუკოვიჩი ქვეყანას დატოვებს და გაიქცევა\"იტვირთება.'\n",
      "'“10 თვის ასაკში ბავშვის ცემას სამომავლოდ, მისი ზრდასრულობის ასაკში, შეიძლება სავალალო შედეგები მოჰყვეს, ყველაფერი ილექება ცნობიერში და შემდგომ ხდება ამის გამოვლინება.'\n",
      "'10 იანვარს შევიკრიბეთ და მზადება დავიწყეთ.\n",
      "24\t10 კაციდან ექვსს ჯადო აქვს გაკეთებული\" - GzaPress \"10 კაციდან ექვსს ჯადო აქვს გაკეთებული\"'\n",
      "'» 10 მიზეზი თუ რატომ არიან თევზების ზოდიაქოს ქვეშ დაბადებულები რთული ადამიანები…'\n",
      "'10 ნაბიჯი პიარ გეგმის შესადგენად - ბიბლუსის და \"პერიტუს გრუპის\" ორგანიზებით უფასო მასტერკლასი გაიმართა მათთვის, ვისაც ბიზნესში წარმატების მიღწევა სურს.'\n",
      "'•10 ნოემბერი - სწავლების გახსნა, პრესკონფერენცია.'\n",
      "'10 პიესა ომზე დაიწერა პროექტისთვის, რომელსაც პერსპექტივაში თანამედროვე რუსი ავტორებიც შეუერთდებიან.'\n",
      "'10 ფეხბურთელით თამაში რთულია, მაგრამ ზიზუს გუნდი არ დანებდა და ანგარიში გაათანაბრა, შემდეგ კი მოსაგებად იბრძოდა.'\n",
      "'« 10 ყველაზე საშიში მცენარე მსოფლიოში »'\n",
      "'“10 წელია რაც გათხოვილი ვარ და ჩემს ქმარს დღემდე შიშველი არ.'\n",
      "'10 წელი ვიარე სიმართლის დასადგენად, მაგრამ ამ უსამართლო ქვეყანაში ვერაფერს გავხდი.\n",
      "33\t10 წელი ძალიან ცოტაა.'\n",
      "'“10 წიგნისა და 4000 ლექსის ავტორი” – ვინ დაეხმარა გიორგი მასხულიას მწერალთა კავშირის წევრობაში?'\n",
      "'“10 წლის წინ კი, რუსეთის ფედერაციამ ჩემი ქვეყნის წინააღმდეგ კიდევ ერთი ფართომასშტაბიანი სამხედრო აგრესია განახორციელა, რასაც შედეგად მოჰყვა საქართველოს ორი ისტორიული და განუყოფელი რეგიონის - აფხაზეთისა და ცხინვალის სრულმასშტაბიანი ოკუპაცია.'\n",
      "'“№ 11 (1216) – 12 მარტი” წარმატებით დაემატა.'\n",
      "'• 11-12 წლის ზემოთ თამაშის დროს მშობელმა მეტი ყურადღება ბავშვის მეგობრებისადმი დამოკიდებულებას უნდა მიაქციოს.'\n",
      "'112 -დან მიღებული მონაცემების თანახმად, მიმდინარე წლის 25 ოქტომბერს, თბილისში, ნუცუბიძის პლატოზე, პატრულ-ინსპექტორმა სასწრაფო სამედიცინო დახმარების გამოძახების თაობაზე შეტყობინება 16:59:18 საათზე განახორციელა.\n",
      "39\t“112”-ის მოსამსახურეების სიცოცხლე დაზღვეული იქნება.\n",
      "40\t112-ში დარეკეს და თქვეს, რომ ჩვენს სამორინეში ბომბია და ნახევარი საათის განმავლობაში უნდა აფეთქებულიყო.'\n",
      "'112-ში შეიქმნა მობილური აპლიკაცია, რომელიც მსხვერპლებს აძლევს შესაძლებლობას ჩუმი შეტყობინება დროის მოკლე მონაკვეთში გააგზავნონთბილისი.'\n",
      "'114 მსჯავრდებული დღესვე დატოვებს საპატიმრო დაწესებულებას.\n",
      "43\t“ 116 კაცის სახელით ვერ ვისაუბრებ.\n",
      "44\t11 მაისს კვლევა დაიწყო თბილისში და გაგრძელდება 19 მაისის ჩათვლით, ხოლო შემდეგ ჯგუფები გავლენ რეგიონებში და იმუშავებენ 12 აგვისტოს ჩათვლით.'\n",
      "'… 11 მარტი 2019, 00:00 სასაუბრო თემა გახლავთ: მე ამისგან გავაკეთებ.'\n",
      "'№11 საჯარო სკოლა - პედაგოგთა რაოდენობა ჯამში 22-ს შეადგენს.'\n",
      "'“11 წლის ბიჭია სანდრო ტავალიუკი.'\n",
      "'12,10,09 II რიგის ცვლილება - აქტიური ნივთიერებების ცვლილება'\n",
      "'‎12 აპრილამდე იმართება დიდი ავტოგამოფენა-გაყიდვა 2012!'\n",
      "'12 თებერვალს ღამით, ოჯახური პირობების გამო, დინამო თბილისის მთავარმა მწვრთნელმა- ვიაჩესლავ გროზნიმ შეკრება დატოვა და თურქეთიდან სამშობლოში გაფრინდა.\n",
      "51\t12 ივლისს, პარასკევს, პირადად ვესაუბრე მაკრახიძის ბიუროს ხელმძღვანელს და ვთხოვე ინფორმაცია ბიუროს საქმიანობასთან დაკავშირებით.'\n",
      "'12-საათიანი სამუშაო გრაფიკისას ერთხელ გვაჭმევდნენ, ხელფასსაც არ გვიხდიდნენ - რა მდგომარეობაში აღმოჩნდნენ პოლონეთში სამუშაოდ წაყვანილი ქართველები?'\n",
      "'12 სამინისტროს მიერ მოწოდებული ინფორმაციის თანახმად, სამინისტოების მიერ შემცირებული საბიუჯეტო ხარჯების მთლიანი ოდენობა შეადგენს 55 მლნ 344 ათას ლარს.\n",
      "54\t· „12 საუკეთესო ქართული ფილმი“ (“გფმ”-მა მოაწყო ფართომასშტაბიანი გამოკითხვა “ყველა დროის თორმეტი საუკეთესო ფილმის” გამოსავლენად.\n",
      "55\t“1/2 ქანჩის მოსახსნელი ექვსკუთხა თავაკი (HHAST12241) 24MM” დაემატა თქვენ კალათაში.\n",
      "56\t12 წელი ციხე მემუქრება, მაგრამ ჩვენთანაა 500 ადამიანი, რომლებიც პლანს დათესავენ\" - Metronome.'\n",
      "'12-წლიანი მკაცრი სანქციების პერიოდში, არასდროს, არც ერთ ქვეყანასთან ურთიერთობა ჩვენი მხრივ არ გაგვიწყვეტია.\n",
      "58\t12 წლის ბავშვი ჯართის შესაგროვებლად მიდის და უბედური შემთხვევისას კვდება.'\n",
      "'12 წლის ბიჭების ცხედრები წყალში ხელჩაჭიდებული იპოვეს'\n",
      "'• 13:00-15:00 საბაჟო პროცედურები, გთხოვთ გაითვალისწინოთ, რომ ID მოწმობის შემთხვევაში, საზღვარზე გადმოგცემენ ფურცელს, რომელიც არის საზღვრის გადაკვეთის მოწმობა, აუცილებლად შეინახეთ აღნიშნული ფურცელი.'\n",
      "'”13-14 ივნისის სტიქიიდან ორი წელი გავიდა.'\n",
      "'№1318 კონსტიტუციური სარჩელის ავტორი დამატებით მიუთითებს, რომ 0,0003 გრამი მეტამფეტამინის შეძენისა და შენახვის აკრძალვას არ გააჩნია ღირებული საჯარო მიზანი.'\n",
      "'13 1eახლახან, საგარეჯოში გაიმართა შეხვედრა, რომელსაც კახეთის გუბერნატორთან გიორგი ღვინიაშვილთან ერთად რეგიონის ყველა მუნიციპალიტეტის გამგებელი და საკრებულოს თავმჯდომარე ეწსრებოდა.'\n",
      "'13 1eდედოფლისწყაროს რაიონში მდინარე ალაზანზე გადის საზღვარი საქართველოსა და აზერბაიჯანს შორის.'\n",
      "'13 1eსოფელ წითელწყაროს საჯარო სკოლაში რუსულ სექტორზე სწავლის მსურველთა რიცხვი ყოველწლიურად მცირდება, თუმცა, კონტიგენტის სიმცირეს ნამდვილად არ ვუჩივით.'\n",
      "'№132 ბაღში სასწავლო- სააღმზრდელო პროცესი 10 მარტიდან 20 აპრილის ჩათვლით შეჩერდება, ამის მიზეზი დავით აღმაშენებლის გამზირზე პროექტ „ახალი თბილისის“ ფარგლებში მიმდინარე სარეაბილიტაციო სამუშაოებია.'\n",
      "'135 ლარი უნდა მიმეღო, მაგრამ 10 ლარით ნაკლები მომიტანეს.\n",
      "68\t13 აბა რა წინ დამისხედით სამივენი, გადაჯექით უკან!'\n",
      "'13 ადამიანთა დასაქმების რა საშუალებები არსებობს თქვენს მუნიციპალიტეტში?\n",
      "70\t13 ამაზე ჩვენც ხშირად გვიფიქრია, ვიცით, რომ ეს საზოგადოებისთვის ერთობ საჭიროა, თუმცა, რეალობა ცოტა სხვაგვარია.'\n",
      "'13 აუცილებლად გვჭირდება ლეიბი, რომ ხტომა გაგვიადვილდეს.\n",
      "72\t13 გამომძახებს ბებო, მაგრამ, ეჰ, ვინ უსმენს.'\n",
      "'13 ვნახავ ქვეყანას, რომელიც ძალიან მაინტერესებდა, ახლოს გავეცნობი ახალ კულტურას.\n",
      "74\t13 თქვენ პედაგოგი ბრძანდებით და ყველაზე უკეთ ხედავთ, შეიცვალა თუ არა მოსწავლის დამოკიდებულება სწავლის მიმართ?'\n",
      "'13 მაისიდან ვენერა-მარსის სექსტილი შედის ქმედებაში, რაც ურთიერთობებში ახალ ენერგიებს შეიტანს და გამოაცოცხლებს მიძინებულ გრძნობებს.\n",
      "76\t13 მაისს ვრცელდებოდა ინფორმაცია, რომ კონტრდემონსტრანტების მხრიდან ადგილი ჰქონდა “ჩვენი თავისუფლებისთვის“ აქციის მონაწილეთა მიმართ ძალადობის მუქარას, ფიზიკურ ძალადობასა და სხვა ძალადობრივ მოწოდებებს.'\n",
      "'13 ოჯახის შექმნის ისტორია საკმაოდ ბანალურია.\n",
      "78\t13 რა პათოლოგიები ახასიათებს ფარისებრ ჯირკვალს?'\n",
      "'13 რაც შეეხება 2006 წელს გაცემულ პასპორტებს, რა ელით ასეთი პასპორტის მფლობელებს?\n",
      "80\t13 საპატრიარქო რა სახით არის ჩართული საფლავის დადგენის პროცესში?'\n",
      "'13 სილქნეტის აქტიური აბონენტი დედოფლისწყაროსა და მის სოფლებში ამჟამად 740-ზე მეტია, ამაში შედიან როგორც ძველი აბონენტები, ისე უკაბელო ტელეფონის მფლობელები.\n",
      "82\t13 სხვათაშორის ეს საკითხი წინა მოწვევის საკრებულოს სხდომებზე აქტიურად განიხილებოდა.'\n",
      "'13 ტარიფის საკითხი ჩვენი გადასაწყვეტი არაა.\n",
      "84\t13 ჩვენს სოფელში არანაირი გასართობი არ არის.'\n",
      "'“13 წელია ადვოკატი ვარ და ამ ნორმით გასამართლებული არავინ მინახავს.'\n",
      "'13 წელი ერთად ვცხოვრობდით, არაფერი მცდელობა არ ჰქონია.\n",
      "87\t13 წლის მოზარდის მკურნალობის ხარჯებს ქუთაისის მერია სრულად დაფარვას.'\n",
      "'13 წყლის მრიცხველების შეცვლას ყველა ოჯახს არ მოვთხოვთ, მიუხედავად იმისა, რომ მათი აბსოლუტური უმრავლესობა ვერ აკმაყოფილებს დადგენილ სტანდარტებს.\n",
      "89\t• 14.00 პანელ დისკუსია თემაზე - ქართული კინოს ტენდენციები და კინოკრიტიკა დღეს.\n",
      "90\t$142 მლნ-ით ჩინეთი მეორეზეა, $126 მლნ-ით აზერბაიჯანი მესამეზე, რუსეთი კი $122 მლნ-ით მეოთხე ადგილს სჯერდება.\n",
      "91\t14 აგვისტოს 02:05 საათზე გიორგი ცომაია ბრალდებულის სახით დააკავეს და გადაიყვანეს დროებითი მოთავსების იზოლატორში.'\n",
      "'14 და 15 ივლისს დაგეგმილია ევროპული საბჭოს პრეზიდენტის დონალდ ტუსკის ვიზიტი საქართველოში.\n",
      "93\t“14 ოპოზიციური პარტია არარსებულ კანონპროექტში ცვლილებას ითხოვს”\n",
      "94\t“14 პირთან გვაქვს დამატებითი შეკითხვები, ეს გამომდინარეობს შემოსავლების სამსახურის მონაცემების ანალიზის საფუძველზე.\n",
      "95\t14 პუნქტიანი დოკუმენტის მიხედვით ჩვენი ქვეყანა უნდა იყოს ჩვულებრივი \"ჩმორი\"\"'\n",
      "'“1+4 საგანმანათლებლო პროგრამა” ითვალისწინებს აფხაზურ, ოსურ, სომხურ და აზერბაიჯანულ ენებზე ზოგადი უნარების გამოცდის ჩაბარებასა და უმაღლესი განათლების მიღების შესაძლებლობას.'\n",
      "'1+4 საგანმანათლებლო პროგრამის მონაწილეებს შეეძლებათ, სახელმწიფო უწყებებში, ადგილობრივ თვითმმართველობის ორგანოებსა და სხვა საჯარო სამსახურებში ერთიდან ექვს თვემდე სტაჟირება გაიარონ.'\n",
      "'“15 000 დოლარის გადახდის შემდეგ, გამტაცებლებმა ვაზგენ მინასიანი გაათავისუფლეს და მისი ოჯახისგან მიიღეს პირობა, რომ დარჩენილ თანხ\n"
     ]
    }
   ],
   "source": [
    "print(text_concat[:10000].replace(\"<endl>\",'\\n'))"
   ]
  },
  {
   "cell_type": "code",
   "execution_count": 30,
   "id": "e99ad408-716b-47be-9179-ae6f80fb89be",
   "metadata": {},
   "outputs": [
    {
     "name": "stdout",
     "output_type": "stream",
     "text": [
      "saved sucessfully!\n"
     ]
    }
   ],
   "source": [
    "save_file(filename,text_concat)"
   ]
  },
  {
   "cell_type": "code",
   "execution_count": 22,
   "id": "a6c450a0-ca4e-433a-89af-c02540dde102",
   "metadata": {},
   "outputs": [],
   "source": []
  },
  {
   "cell_type": "code",
   "execution_count": 23,
   "id": "3defbf31-6c65-4e91-8a34-c0148a5aab61",
   "metadata": {},
   "outputs": [],
   "source": [
    "text = targmna(text)"
   ]
  },
  {
   "cell_type": "code",
   "execution_count": 24,
   "id": "ba9d16a1-b502-426d-b430-b41440bbb7c0",
   "metadata": {},
   "outputs": [
    {
     "name": "stdout",
     "output_type": "stream",
     "text": [
      "1\t“004” daemata tqven kalatashi.\n",
      "2\t▪ 03.04.: g. maisuradze wignis shesaxeb „http://bit.\n",
      "3\t\"06,06,2008 I rigis “a” da “b” tipi - pirveladi da meoreuli shefutvis markirebis, dizainis da specifikaciashi cvlilebis registracia \"\n",
      "4\t“08:00 saatze gaixsna ubnebi, opoziciuri partiebisgan gaketebuli gancxadebebi aris sicrue da aris tyuili.\n",
      "5\t¼ finalur etapze metoqes elodeba awarabeti, romelmac vitibi banki 5:2 daamarcxa.\n",
      "6\t¾ qilis moculoba kunelis axali yvavilebit aavset, bolomde aryit aavset da 1 kvira daayenet.\n",
      "7\t¾ wiqa martivi sirofi (1 wiqa wyali da 1 wiqa shaqari).\n",
      "8\t\"100 000 wami\" - ase ewodeba melodramas, romelshic davit qacarava da luiza nersisiani monawileoben.\n",
      "9\t\"10:00 saatis monacemebit, 240 000 amomrchevelia urnastan misuli.\n",
      "10\t“1000 ufaso operacia usinatloebs”\n",
      "11\t\"100%-it darwmunebuli ar var“, - dasdzina man.\n",
      "12\t”100 qulis amowurvis shemdeg, mdzgols sashualeba eqneba, martvis mowmobis gauqmebidan 2 tvis vadashi ganmeorebit gamocdaze gavides.\n",
      "13\t\"100 cnobili qalis werili, mamakacis k\n"
     ]
    }
   ],
   "source": [
    "print(text[:1000])"
   ]
  },
  {
   "cell_type": "code",
   "execution_count": 14,
   "id": "b56b44b4-8665-4b6c-8b1e-3023df12bebc",
   "metadata": {},
   "outputs": [
    {
     "ename": "NameError",
     "evalue": "name 'text' is not defined",
     "output_type": "error",
     "traceback": [
      "\u001b[1;31m---------------------------------------------------------------------------\u001b[0m",
      "\u001b[1;31mNameError\u001b[0m                                 Traceback (most recent call last)",
      "Cell \u001b[1;32mIn[14], line 1\u001b[0m\n\u001b[1;32m----> 1\u001b[0m text \u001b[38;5;241m=\u001b[39m \u001b[43mtext\u001b[49m\u001b[38;5;241m.\u001b[39mlower()\n",
      "\u001b[1;31mNameError\u001b[0m: name 'text' is not defined"
     ]
    }
   ],
   "source": [
    "text = text.lower()\n"
   ]
  },
  {
   "cell_type": "code",
   "execution_count": 5,
   "id": "e90ebde7-6c4b-48ea-af86-2ae3cfbb9e24",
   "metadata": {},
   "outputs": [],
   "source": [
    "symbols_to_keep = r':\\\\'\n",
    "text = remove_symbols_except(text,symbols_to_keep)\n",
    "text = text.replace('\\n',\" <endl> \")\n",
    "text = text.replace('abaqalo','aba qalo')\n",
    "text = text.replace('acla','axla')\n",
    "\n"
   ]
  },
  {
   "cell_type": "code",
   "execution_count": null,
   "id": "9e274e3d-e00f-4ef6-83c4-0bdf499f91bc",
   "metadata": {},
   "outputs": [],
   "source": [
    "list_of_words = [truncate_word(word) for word in text.split()]\n",
    "words = sorted(list(set(list_of_words)))\n",
    "vocab_size = len(words)\n",
    "print(vocab_size)\n",
    "\n",
    "text_input = \" \".join(list_of_words)\n",
    "print(text_input[:1000])"
   ]
  },
  {
   "cell_type": "code",
   "execution_count": 7,
   "id": "240699af-4405-4681-a691-4f44fb4200e4",
   "metadata": {},
   "outputs": [],
   "source": [
    "with open(\"input2.txt\", \"w\") as text_file:\n",
    "    text_file.write(text_input)"
   ]
  },
  {
   "cell_type": "code",
   "execution_count": 16,
   "id": "6a0e62c0-49da-4b9c-bc15-42fdbe679fd6",
   "metadata": {},
   "outputs": [
    {
     "data": {
      "text/plain": [
       "'adas assd as '"
      ]
     },
     "execution_count": 16,
     "metadata": {},
     "output_type": "execute_result"
    }
   ],
   "source": [
    "remove_words_with_numbers(t)"
   ]
  },
  {
   "cell_type": "code",
   "execution_count": 21,
   "id": "91ed8383-74a7-416b-95b5-58cb83cbd270",
   "metadata": {},
   "outputs": [
    {
     "data": {
      "text/plain": [
       "'iii'"
      ]
     },
     "execution_count": 21,
     "metadata": {},
     "output_type": "execute_result"
    }
   ],
   "source": [
    "word = \"Saba guledaniii\"\n",
    "string[len(word)-3:]"
   ]
  },
  {
   "cell_type": "code",
   "execution_count": 7,
   "id": "a8a02431-23e4-4c23-a97e-4bc242226b37",
   "metadata": {},
   "outputs": [
    {
     "ename": "NameError",
     "evalue": "name 'lower' is not defined",
     "output_type": "error",
     "traceback": [
      "\u001b[1;31m---------------------------------------------------------------------------\u001b[0m",
      "\u001b[1;31mNameError\u001b[0m                                 Traceback (most recent call last)",
      "Cell \u001b[1;32mIn[7], line 1\u001b[0m\n\u001b[1;32m----> 1\u001b[0m \u001b[43mlower\u001b[49m(string)\n",
      "\u001b[1;31mNameError\u001b[0m: name 'lower' is not defined"
     ]
    }
   ],
   "source": []
  },
  {
   "cell_type": "code",
   "execution_count": 6,
   "id": "d136f3d0-68eb-43f6-af7f-63853181f19d",
   "metadata": {},
   "outputs": [
    {
     "data": {
      "text/plain": [
       "'Saba'"
      ]
     },
     "execution_count": 6,
     "metadata": {},
     "output_type": "execute_result"
    }
   ],
   "source": []
  },
  {
   "cell_type": "code",
   "execution_count": null,
   "id": "4681cb1b-214f-45af-9256-292121777e57",
   "metadata": {},
   "outputs": [],
   "source": []
  }
 ],
 "metadata": {
  "kernelspec": {
   "display_name": "Python 3 (ipykernel)",
   "language": "python",
   "name": "python3"
  },
  "language_info": {
   "codemirror_mode": {
    "name": "ipython",
    "version": 3
   },
   "file_extension": ".py",
   "mimetype": "text/x-python",
   "name": "python",
   "nbconvert_exporter": "python",
   "pygments_lexer": "ipython3",
   "version": "3.9.18"
  }
 },
 "nbformat": 4,
 "nbformat_minor": 5
}
